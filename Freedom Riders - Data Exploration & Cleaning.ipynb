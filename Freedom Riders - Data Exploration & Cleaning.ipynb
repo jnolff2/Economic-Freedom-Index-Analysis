{
 "cells": [
  {
   "cell_type": "markdown",
   "metadata": {},
   "source": [
    "# Freedom Riders Analysis of Economic Freedom Index and CIA Factbook"
   ]
  },
  {
   "cell_type": "markdown",
   "metadata": {},
   "source": [
    "## Economic Freedom Index\n",
    "\n",
    "Found information on the original data set for EFI on Kaggle. But ended up Googling and visiting the actual site where we were able to pull individual years as well as a combination file for multiple years in Excel. Since we didn't start out with a defined scope, we pulled several data sets but ended up using 3 from this source.\n",
    "\n",
    "This was also the source of our definitions and understanding of economic freedom.\n",
    "\n",
    "(https://www.heritage.org/index/)"
   ]
  },
  {
   "cell_type": "markdown",
   "metadata": {},
   "source": [
    "## Reading the CIA .json File\n",
    "\n",
    "Googled how to find consolidated information on the countries of the world. Best consolidated source result was cia.gov whom produces an annual world factbook. After reviewing the information on the CIA site, searched for 'CIA API documentation' to start and got a Git repository that ended up having a complete 2019 CIA factbook in .json format. Therefore, it was easy enough to download the 2019 CIA data.\n",
    "\n",
    "(https://www.cia.gov/library/publications/the-world-factbook/)\n",
    "\n",
    "(https://github.com/iancoleman/cia_world_factbook_api)\n",
    "\n",
    "The complication came in the fact that there is no true documentation. Searching for it leads to the Git repository where the data file resides. Went back to the CIA site to find the factbook guide, which outlines the layout of information and how it is sorted/nested in the print/html versions. This is related to, but not specifically how, the .json is laid out. Ended up manually chaining out and discovering the keys needed to get the information to answer questions. The exploration, resulted in MASSIVE amounts of data; much more than needed for the project. Pulled in the specifics needed and moved on. Only 'keyed-out' about an estimated-third of the data types in the file, so there is much more to be revealed!\n",
    "\n",
    "Data to collect:\n",
    "   Country Name\n",
    "   Population\n",
    "   Form of Government\n",
    "   GDP\n",
    "   GDP Year\n",
    "   GDP Rank\n",
    "   Per Capita GDP\n",
    "   Per Capita GDP Year\n",
    "   Per Capita GDP Rank\n",
    "   \n",
    "The process used was reading the .json and starting with building a tree of cia_facts.keys().\n",
    "Created an Excel (to keep track of the levels) and used .keys() on each of the branches. Highlighted the keys needed in the process. Stopped key collection, for sake of time, once the required keys were gathered. There's a LOT more info in the .json."
   ]
  },
  {
   "cell_type": "markdown",
   "metadata": {},
   "source": [
    "## Data Cleaning CIA Data\n",
    "This was a fairly intense process due to the large number of exceptions.\n",
    "\n",
    "Started by simply trying country names from the EFI data as keys for in the CIA data. Sid this with try/except and printed the exceptions as an error list so we could target what to clean. First run, all countries errored out. Reviewed the cia_facts\\['countries'\\].keys() and noted they were all lower case. Adjusted code to include .lower() and got far fewer items on the error list.\n",
    "\n",
    "Continued this try/except/rerun-the-code process to build a comprehensive data cleaning loop to generate a list of final, searchable keys. There were enough countries in the EFI set with a hanging space on the end that it was better to generate a list with that corrected first, then send the resulting list through the secondary cleaning process. Secondary cleaning filled spaces, replaced hyphens, adjusted spelling/special characters as needed, and reordered ancillary naming terms like North/South/The, etc.\n",
    "\n",
    "This was by far, the most time consuming and complicated part since we hadn't really practiced this in depth before."
   ]
  },
  {
   "cell_type": "markdown",
   "metadata": {},
   "source": [
    "## Other Hangups\n",
    "\n",
    "Took some assistance on troubleshooting from Bay to figure out why Zimbabwe wouldn't append to the combined dataframe. Had a workaround written up, but got it done correctly! It was because the data in the dataframe from (list(zip)) was 1 item short for two of the lists. Once I added those additional 2 lists to the exception I was good to go. The originating exception was a KeyError for 1 country that didn't have per capita data points so I had to calculate it via the overall GDP and the population.\n",
    "\n",
    "There was also a chunk of time where Jennifer forgot/couldn't figure out how variables work. Ooops."
   ]
  },
  {
   "cell_type": "markdown",
   "metadata": {},
   "source": [
    "## So Much More\n",
    "\n",
    "There is a TON of information within the CIA World Factbook. \n",
    "\n",
    "This could be used as data source for further analysis of economic freedom or even for a whole different project."
   ]
  }
 ],
 "metadata": {
  "kernelspec": {
   "display_name": "Python 3",
   "language": "python",
   "name": "python3"
  },
  "language_info": {
   "codemirror_mode": {
    "name": "ipython",
    "version": 3
   },
   "file_extension": ".py",
   "mimetype": "text/x-python",
   "name": "python",
   "nbconvert_exporter": "python",
   "pygments_lexer": "ipython3",
   "version": "3.7.3"
  },
  "varInspector": {
   "cols": {
    "lenName": 16,
    "lenType": 16,
    "lenVar": 40
   },
   "kernels_config": {
    "python": {
     "delete_cmd_postfix": "",
     "delete_cmd_prefix": "del ",
     "library": "var_list.py",
     "varRefreshCmd": "print(var_dic_list())"
    },
    "r": {
     "delete_cmd_postfix": ") ",
     "delete_cmd_prefix": "rm(",
     "library": "var_list.r",
     "varRefreshCmd": "cat(var_dic_list()) "
    }
   },
   "types_to_exclude": [
    "module",
    "function",
    "builtin_function_or_method",
    "instance",
    "_Feature"
   ],
   "window_display": false
  }
 },
 "nbformat": 4,
 "nbformat_minor": 2
}
